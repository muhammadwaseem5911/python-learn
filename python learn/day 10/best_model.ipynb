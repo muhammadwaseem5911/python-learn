{
 "cells": [
  {
   "cell_type": "markdown",
   "metadata": {},
   "source": [
    "**best Model**"
   ]
  },
  {
   "cell_type": "code",
   "execution_count": 6,
   "metadata": {},
   "outputs": [
    {
     "name": "stderr",
     "output_type": "stream",
     "text": [
      "C:\\Users\\muhammad waseem\\AppData\\Local\\Temp\\ipykernel_11548\\1972462051.py:19: FutureWarning: A value is trying to be set on a copy of a DataFrame or Series through chained assignment using an inplace method.\n",
      "The behavior will change in pandas 3.0. This inplace method will never work because the intermediate object on which we are setting values always behaves as a copy.\n",
      "\n",
      "For example, when doing 'df[col].method(value, inplace=True)', try using 'df.method({col: value}, inplace=True)' or df[col] = df[col].method(value) instead, to perform the operation inplace on the original object.\n",
      "\n",
      "\n",
      "  X.age.fillna(value=X['age'].mean(),inplace=True)\n",
      "c:\\Users\\muhammad waseem\\AppData\\Local\\Programs\\Python\\Python312\\Lib\\site-packages\\sklearn\\linear_model\\_logistic.py:469: ConvergenceWarning: lbfgs failed to converge (status=1):\n",
      "STOP: TOTAL NO. of ITERATIONS REACHED LIMIT.\n",
      "\n",
      "Increase the number of iterations (max_iter) or scale the data as shown in:\n",
      "    https://scikit-learn.org/stable/modules/preprocessing.html\n",
      "Please also refer to the documentation for alternative solver options:\n",
      "    https://scikit-learn.org/stable/modules/linear_model.html#logistic-regression\n",
      "  n_iter_i = _check_optimize_result(\n"
     ]
    },
    {
     "name": "stdout",
     "output_type": "stream",
     "text": [
      "accurancy Score: logistic regression:0.80\n",
      "accurancy Score: Random forest:0.77\n",
      "accurancy Score: decision tree classifier:0.72\n",
      "accurancy Score: K neighbour:0.67\n",
      "accurancy Score: SVC:0.65\n"
     ]
    }
   ],
   "source": [
    "# import libaries\n",
    "import pandas as pd\n",
    "import numpy as np\n",
    "import seaborn  as sns\n",
    "import matplotlib.pyplot as plt\n",
    "from sklearn.tree import  DecisionTreeClassifier\n",
    "from sklearn.linear_model import  LogisticRegression\n",
    "from sklearn.metrics import  accuracy_score,f1_score,recall_score,precision_score\n",
    "from sklearn.model_selection import train_test_split\n",
    "from sklearn.neighbors import  KNeighborsClassifier\n",
    "from sklearn.svm import SVC\n",
    "from sklearn.ensemble import  RandomForestClassifier\n",
    "\n",
    "# import dataset\n",
    "df=sns.load_dataset('titanic')\n",
    "X=df[['fare','pclass','sex','age','sibsp','parch']]\n",
    "y=df['survived']\n",
    "X=pd.get_dummies(X,columns=['sex'])\n",
    "X.age.fillna(value=X['age'].mean(),inplace=True)\n",
    "\n",
    "X_train,X_test,y_train,y_test=train_test_split(X,y,train_size=0.2,random_state=42)\n",
    "\n",
    "models=[LogisticRegression(),DecisionTreeClassifier(),SVC(),KNeighborsClassifier(),RandomForestClassifier()]\n",
    "model_names=['logistic regression','decision tree classifier','SVC','K neighbour','Random forest']\n",
    "\n",
    "model_scores=[]\n",
    "for model,model_name in zip(models,model_names):\n",
    "    model=model.fit(X_train,y_train)\n",
    "    y_pred=model.predict(X_test)\n",
    "    accuracy= accuracy_score(y_test,y_pred)\n",
    "    model_scores.append([model_name,accuracy])\n",
    "\n",
    "sorted_models=sorted(model_scores,key=lambda x:x[1], reverse=True)\n",
    "for model in sorted_models:\n",
    "    print('accurancy Score:',f'{model[0]}:{model[1]:.2f}')"
   ]
  },
  {
   "cell_type": "code",
   "execution_count": 7,
   "metadata": {},
   "outputs": [
    {
     "name": "stderr",
     "output_type": "stream",
     "text": [
      "c:\\Users\\muhammad waseem\\AppData\\Local\\Programs\\Python\\Python312\\Lib\\site-packages\\sklearn\\linear_model\\_logistic.py:469: ConvergenceWarning: lbfgs failed to converge (status=1):\n",
      "STOP: TOTAL NO. of ITERATIONS REACHED LIMIT.\n",
      "\n",
      "Increase the number of iterations (max_iter) or scale the data as shown in:\n",
      "    https://scikit-learn.org/stable/modules/preprocessing.html\n",
      "Please also refer to the documentation for alternative solver options:\n",
      "    https://scikit-learn.org/stable/modules/linear_model.html#logistic-regression\n",
      "  n_iter_i = _check_optimize_result(\n"
     ]
    },
    {
     "name": "stdout",
     "output_type": "stream",
     "text": [
      "F1: logistic regression:0.71\n",
      "F1: Random forest:0.70\n",
      "F1: decision tree classifier:0.65\n",
      "F1: K neighbour:0.54\n",
      "F1: SVC:0.31\n"
     ]
    }
   ],
   "source": [
    "models=[LogisticRegression(),DecisionTreeClassifier(),SVC(),KNeighborsClassifier(),RandomForestClassifier()]\n",
    "model_names=['logistic regression','decision tree classifier','SVC','K neighbour','Random forest']\n",
    "\n",
    "models_scores=[]\n",
    "for model,model_name in zip(models,model_names):\n",
    "    model=model.fit(X_train,y_train)\n",
    "    y_pred=model.predict(X_test)\n",
    "    F1= f1_score(y_test,y_pred)\n",
    "    models_scores.append([model_name,F1])\n",
    "\n",
    "sorted_models=sorted(models_scores,key=lambda x:x[1], reverse=True)\n",
    "for model in sorted_models:\n",
    "    print('F1:',f'{model[0]}:{model[1]:.2f}')"
   ]
  },
  {
   "cell_type": "code",
   "execution_count": 8,
   "metadata": {},
   "outputs": [
    {
     "name": "stderr",
     "output_type": "stream",
     "text": [
      "c:\\Users\\muhammad waseem\\AppData\\Local\\Programs\\Python\\Python312\\Lib\\site-packages\\sklearn\\linear_model\\_logistic.py:469: ConvergenceWarning: lbfgs failed to converge (status=1):\n",
      "STOP: TOTAL NO. of ITERATIONS REACHED LIMIT.\n",
      "\n",
      "Increase the number of iterations (max_iter) or scale the data as shown in:\n",
      "    https://scikit-learn.org/stable/modules/preprocessing.html\n",
      "Please also refer to the documentation for alternative solver options:\n",
      "    https://scikit-learn.org/stable/modules/linear_model.html#logistic-regression\n",
      "  n_iter_i = _check_optimize_result(\n"
     ]
    },
    {
     "name": "stdout",
     "output_type": "stream",
     "text": [
      "Recall_score: logistic regression:0.70\n",
      "Recall_score: decision tree classifier:0.70\n",
      "Recall_score: SVC:0.70\n",
      "Recall_score: K neighbour:0.70\n",
      "Recall_score: Random forest:0.70\n"
     ]
    }
   ],
   "source": [
    "models=[LogisticRegression(),DecisionTreeClassifier(),SVC(),KNeighborsClassifier(),RandomForestClassifier()]\n",
    "model_names=['logistic regression','decision tree classifier','SVC','K neighbour','Random forest']\n",
    "\n",
    "models_scores=[]\n",
    "for model,model_name in zip(models,model_names):\n",
    "    model=model.fit(X_train,y_train)\n",
    "    y_pred=model.predict(X_test)\n",
    "    Recall_Score= recall_score(y_test,y_pred)\n",
    "    models_scores.append([model_name,F1])\n",
    "\n",
    "sorted_models=sorted(models_scores,key=lambda x:x[1], reverse=True)\n",
    "for model in sorted_models:\n",
    "    print('Recall_score:',f'{model[0]}:{model[1]:.2f}')"
   ]
  },
  {
   "cell_type": "code",
   "execution_count": 9,
   "metadata": {},
   "outputs": [
    {
     "name": "stderr",
     "output_type": "stream",
     "text": [
      "c:\\Users\\muhammad waseem\\AppData\\Local\\Programs\\Python\\Python312\\Lib\\site-packages\\sklearn\\linear_model\\_logistic.py:469: ConvergenceWarning: lbfgs failed to converge (status=1):\n",
      "STOP: TOTAL NO. of ITERATIONS REACHED LIMIT.\n",
      "\n",
      "Increase the number of iterations (max_iter) or scale the data as shown in:\n",
      "    https://scikit-learn.org/stable/modules/preprocessing.html\n",
      "Please also refer to the documentation for alternative solver options:\n",
      "    https://scikit-learn.org/stable/modules/linear_model.html#logistic-regression\n",
      "  n_iter_i = _check_optimize_result(\n"
     ]
    },
    {
     "name": "stdout",
     "output_type": "stream",
     "text": [
      "Precision: logistic regression:0.70\n",
      "Precision: decision tree classifier:0.70\n",
      "Precision: SVC:0.70\n",
      "Precision: K neighbour:0.70\n",
      "Precision: Random forest:0.70\n"
     ]
    }
   ],
   "source": [
    "models=[LogisticRegression(),DecisionTreeClassifier(),SVC(),KNeighborsClassifier(),RandomForestClassifier()]\n",
    "model_names=['logistic regression','decision tree classifier','SVC','K neighbour','Random forest']\n",
    "\n",
    "models_scores=[]\n",
    "for model,model_name in zip(models,model_names):\n",
    "    model=model.fit(X_train,y_train)\n",
    "    y_pred=model.predict(X_test)\n",
    "    Precision= precision_score(y_test,y_pred)\n",
    "    models_scores.append([model_name,F1])\n",
    "\n",
    "sorted_models=sorted(models_scores,key=lambda x:x[1], reverse=True)\n",
    "for model in sorted_models:\n",
    "    print('Precision:',f'{model[0]}:{model[1]:.2f}')"
   ]
  },
  {
   "cell_type": "code",
   "execution_count": null,
   "metadata": {},
   "outputs": [],
   "source": []
  }
 ],
 "metadata": {
  "kernelspec": {
   "display_name": "Python 3",
   "language": "python",
   "name": "python3"
  },
  "language_info": {
   "codemirror_mode": {
    "name": "ipython",
    "version": 3
   },
   "file_extension": ".py",
   "mimetype": "text/x-python",
   "name": "python",
   "nbconvert_exporter": "python",
   "pygments_lexer": "ipython3",
   "version": "3.12.6"
  }
 },
 "nbformat": 4,
 "nbformat_minor": 2
}
