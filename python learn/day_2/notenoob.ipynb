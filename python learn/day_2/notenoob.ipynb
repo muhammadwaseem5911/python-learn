{
 "cells": [
  {
   "cell_type": "markdown",
   "metadata": {},
   "source": [
    "# this is second time work"
   ]
  },
  {
   "cell_type": "markdown",
   "metadata": {},
   "source": [
    "## this is second heading line"
   ]
  },
  {
   "cell_type": "markdown",
   "metadata": {},
   "source": [
    "### this is third heading"
   ]
  },
  {
   "cell_type": "markdown",
   "metadata": {},
   "source": [
    "**bold** double straic"
   ]
  },
  {
   "cell_type": "markdown",
   "metadata": {},
   "source": [
    "*itlic* # single staic"
   ]
  },
  {
   "cell_type": "markdown",
   "metadata": {},
   "source": [
    "***donot know*** #bold and italic"
   ]
  },
  {
   "cell_type": "code",
   "execution_count": 2,
   "metadata": {},
   "outputs": [
    {
     "name": "stdout",
     "output_type": "stream",
     "text": [
      "7\n"
     ]
    }
   ],
   "source": [
    "print(7+5-5)"
   ]
  },
  {
   "cell_type": "code",
   "execution_count": 4,
   "metadata": {},
   "outputs": [
    {
     "name": "stdout",
     "output_type": "stream",
     "text": [
      "how to learnig\n"
     ]
    }
   ],
   "source": [
    "print('how to learnig') #using print function in python"
   ]
  },
  {
   "cell_type": "code",
   "execution_count": 9,
   "metadata": {},
   "outputs": [],
   "source": [
    "import pandas as pd\n",
    "import numpy as np\n",
    "import seaborn as sns\n",
    "import  matplotlib.pyplot as plt\n",
    "import plotly as px"
   ]
  },
  {
   "cell_type": "markdown",
   "metadata": {},
   "source": [
    "# making plot"
   ]
  },
  {
   "cell_type": "code",
   "execution_count": 10,
   "metadata": {},
   "outputs": [
    {
     "name": "stderr",
     "output_type": "stream",
     "text": [
      "C:\\Users\\muhammad waseem\\AppData\\Local\\Temp\\ipykernel_14472\\303077523.py:6: FutureWarning: \n",
      "\n",
      "The `scale` parameter has been renamed to `width_method` and will be removed in v0.15. Pass `width_method='linear' for the same effect.\n",
      "  sns.boxenplot(x=\"clarity\",y=\"carat\",\n"
     ]
    },
    {
     "data": {
      "text/plain": [
       "<Axes: xlabel='clarity', ylabel='carat'>"
      ]
     },
     "execution_count": 10,
     "metadata": {},
     "output_type": "execute_result"
    },
    {
     "data": {
      "image/png": "[encoded data removed]",
      "text/plain": [
       "<Figure size 640x480 with 1 Axes>"
      ]
     },
     "metadata": {},
     "output_type": "display_data"
    }
   ],
   "source": [
    "sns.set_theme(style=\"whitegrid\")\n",
    "\n",
    "diamonds =sns.load_dataset(\"diamonds\")\n",
    "clarity_ranking =[\"I1\",\"S32\",\"S11\",\"S1\",\"VVS2\",\"IF\"]\n",
    "\n",
    "sns.boxenplot(x=\"clarity\",y=\"carat\",\n",
    "              color=\"b\", order=clarity_ranking,\n",
    "              scale=\"linear\", data=diamonds)"
   ]
  },
  {
   "cell_type": "code",
   "execution_count": null,
   "metadata": {},
   "outputs": [],
   "source": []
  }
 ],
 "metadata": {
  "kernelspec": {
   "display_name": "Python 3",
   "language": "python",
   "name": "python3"
  },
  "language_info": {
   "codemirror_mode": {
    "name": "ipython",
    "version": 3
   },
   "file_extension": ".py",
   "mimetype": "text/x-python",
   "name": "python",
   "nbconvert_exporter": "python",
   "pygments_lexer": "ipython3",
   "version": "3.12.6"
  }
 },
 "nbformat": 4,
 "nbformat_minor": 2
}
