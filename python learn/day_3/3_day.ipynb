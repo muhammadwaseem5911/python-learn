{
 "cells": [
  {
   "cell_type": "code",
   "execution_count": 2,
   "metadata": {},
   "outputs": [
    {
     "name": "stdout",
     "output_type": "stream",
     "text": [
      "Requirement already satisfied: pandas in c:\\users\\muhammad waseem\\appdata\\local\\programs\\python\\python312\\lib\\site-packages (2.2.3)Note: you may need to restart the kernel to use updated packages.\n",
      "\n",
      "Requirement already satisfied: numpy>=1.26.0 in c:\\users\\muhammad waseem\\appdata\\local\\programs\\python\\python312\\lib\\site-packages (from pandas) (2.1.1)\n",
      "Requirement already satisfied: python-dateutil>=2.8.2 in c:\\users\\muhammad waseem\\appdata\\local\\programs\\python\\python312\\lib\\site-packages (from pandas) (2.9.0.post0)\n",
      "Requirement already satisfied: pytz>=2020.1 in c:\\users\\muhammad waseem\\appdata\\local\\programs\\python\\python312\\lib\\site-packages (from pandas) (2024.2)\n",
      "Requirement already satisfied: tzdata>=2022.7 in c:\\users\\muhammad waseem\\appdata\\local\\programs\\python\\python312\\lib\\site-packages (from pandas) (2024.1)\n",
      "Requirement already satisfied: six>=1.5 in c:\\users\\muhammad waseem\\appdata\\local\\programs\\python\\python312\\lib\\site-packages (from python-dateutil>=2.8.2->pandas) (1.16.0)\n"
     ]
    }
   ],
   "source": [
    "pip install pandas"
   ]
  },
  {
   "cell_type": "code",
   "execution_count": 3,
   "metadata": {},
   "outputs": [],
   "source": [
    "import pandas as pd"
   ]
  },
  {
   "cell_type": "code",
   "execution_count": 6,
   "metadata": {},
   "outputs": [
    {
     "data": {
      "text/html": [
       "<div>\n",
       "<style scoped>\n",
       "    .dataframe tbody tr th:only-of-type {\n",
       "        vertical-align: middle;\n",
       "    }\n",
       "\n",
       "    .dataframe tbody tr th {\n",
       "        vertical-align: top;\n",
       "    }\n",
       "\n",
       "    .dataframe thead th {\n",
       "        text-align: right;\n",
       "    }\n",
       "</style>\n",
       "<table border=\"1\" class=\"dataframe\">\n",
       "  <thead>\n",
       "    <tr style=\"text-align: right;\">\n",
       "      <th></th>\n",
       "      <th>Register #</th>\n",
       "      <th>Annual DFO # (discontinued)</th>\n",
       "      <th>Glide #</th>\n",
       "      <th>Country</th>\n",
       "      <th>Other</th>\n",
       "      <th>Nations</th>\n",
       "      <th>Affected</th>\n",
       "      <th>Detailed Locations (click on active links to access inundation extents)</th>\n",
       "      <th>Validation (post event #3503)</th>\n",
       "      <th>Began</th>\n",
       "      <th>...</th>\n",
       "      <th>Latitude of Centroid Y</th>\n",
       "      <th>\"News\" if validated</th>\n",
       "      <th>M&gt;6</th>\n",
       "      <th>Total annual floods M&gt;6</th>\n",
       "      <th>M&gt;4</th>\n",
       "      <th>Total annual floods M&gt;4</th>\n",
       "      <th>Date Began</th>\n",
       "      <th>Total floods M&gt;6</th>\n",
       "      <th>Total floods M&gt;4</th>\n",
       "      <th>Notes and Comments (may include quoted headlines from copyrighted news stories; for internal research purposes only)</th>\n",
       "    </tr>\n",
       "  </thead>\n",
       "  <tbody>\n",
       "    <tr>\n",
       "      <th>0</th>\n",
       "      <td>4214.0</td>\n",
       "      <td>NaN</td>\n",
       "      <td>FL-2014-000163-COL</td>\n",
       "      <td>Columbia</td>\n",
       "      <td>0</td>\n",
       "      <td>NaN</td>\n",
       "      <td>NaN</td>\n",
       "      <td>Chocó</td>\n",
       "      <td>News</td>\n",
       "      <td>2014-11-01</td>\n",
       "      <td>...</td>\n",
       "      <td>4.59198</td>\n",
       "      <td>News</td>\n",
       "      <td>1.0</td>\n",
       "      <td>98.0</td>\n",
       "      <td>1.0</td>\n",
       "      <td>199.0</td>\n",
       "      <td>2014-11-01</td>\n",
       "      <td>1110.0</td>\n",
       "      <td>3682.0</td>\n",
       "      <td>December 10, 2015, 2014:  A second rainy seaso...</td>\n",
       "    </tr>\n",
       "    <tr>\n",
       "      <th>1</th>\n",
       "      <td>4213.0</td>\n",
       "      <td>NaN</td>\n",
       "      <td>0</td>\n",
       "      <td>USA</td>\n",
       "      <td>0</td>\n",
       "      <td>NaN</td>\n",
       "      <td>NaN</td>\n",
       "      <td>Bay Area, and Sacramento, north coastal Califo...</td>\n",
       "      <td>News</td>\n",
       "      <td>2014-12-11</td>\n",
       "      <td>...</td>\n",
       "      <td>39.79670</td>\n",
       "      <td>News</td>\n",
       "      <td>0.0</td>\n",
       "      <td>97.0</td>\n",
       "      <td>1.0</td>\n",
       "      <td>198.0</td>\n",
       "      <td>2014-12-11</td>\n",
       "      <td>1109.0</td>\n",
       "      <td>3681.0</td>\n",
       "      <td>December 12, 2014:  \"Today's predicted, panic-...</td>\n",
       "    </tr>\n",
       "    <tr>\n",
       "      <th>2</th>\n",
       "      <td>4212.0</td>\n",
       "      <td>NaN</td>\n",
       "      <td>0</td>\n",
       "      <td>Brazil</td>\n",
       "      <td>0</td>\n",
       "      <td>NaN</td>\n",
       "      <td>NaN</td>\n",
       "      <td>Eastern Sao Paulo</td>\n",
       "      <td>News</td>\n",
       "      <td>2014-12-10</td>\n",
       "      <td>...</td>\n",
       "      <td>-24.85130</td>\n",
       "      <td>News</td>\n",
       "      <td>0.0</td>\n",
       "      <td>97.0</td>\n",
       "      <td>1.0</td>\n",
       "      <td>197.0</td>\n",
       "      <td>2014-12-10</td>\n",
       "      <td>1109.0</td>\n",
       "      <td>3680.0</td>\n",
       "      <td>December 11, 2014:  \"Sao Paulo floodwaters lea...</td>\n",
       "    </tr>\n",
       "    <tr>\n",
       "      <th>3</th>\n",
       "      <td>4211.0</td>\n",
       "      <td>NaN</td>\n",
       "      <td>0</td>\n",
       "      <td>Bulgaria</td>\n",
       "      <td>Greece</td>\n",
       "      <td>NaN</td>\n",
       "      <td>NaN</td>\n",
       "      <td>Northern Greece and along the country's northe...</td>\n",
       "      <td>News</td>\n",
       "      <td>2014-12-04</td>\n",
       "      <td>...</td>\n",
       "      <td>41.45790</td>\n",
       "      <td>News</td>\n",
       "      <td>1.0</td>\n",
       "      <td>97.0</td>\n",
       "      <td>1.0</td>\n",
       "      <td>196.0</td>\n",
       "      <td>2014-12-04</td>\n",
       "      <td>1109.0</td>\n",
       "      <td>3679.0</td>\n",
       "      <td>December 12, 2014: \"After heavy rain and flood...</td>\n",
       "    </tr>\n",
       "    <tr>\n",
       "      <th>4</th>\n",
       "      <td>4210.0</td>\n",
       "      <td>NaN</td>\n",
       "      <td>0</td>\n",
       "      <td>Palestine</td>\n",
       "      <td>0</td>\n",
       "      <td>NaN</td>\n",
       "      <td>NaN</td>\n",
       "      <td>Gaza</td>\n",
       "      <td>News</td>\n",
       "      <td>2014-11-26</td>\n",
       "      <td>...</td>\n",
       "      <td>31.33780</td>\n",
       "      <td>News</td>\n",
       "      <td>0.0</td>\n",
       "      <td>96.0</td>\n",
       "      <td>1.0</td>\n",
       "      <td>195.0</td>\n",
       "      <td>2014-11-26</td>\n",
       "      <td>1108.0</td>\n",
       "      <td>3678.0</td>\n",
       "      <td>November 28, 2014:  \"The United Nations Relief...</td>\n",
       "    </tr>\n",
       "  </tbody>\n",
       "</table>\n",
       "<p>5 rows × 30 columns</p>\n",
       "</div>"
      ],
      "text/plain": [
       "   Register # Annual DFO # (discontinued)             Glide #    Country  \\\n",
       "0      4214.0                         NaN  FL-2014-000163-COL   Columbia   \n",
       "1      4213.0                         NaN                   0        USA   \n",
       "2      4212.0                         NaN                   0     Brazil   \n",
       "3      4211.0                         NaN                   0   Bulgaria   \n",
       "4      4210.0                         NaN                   0  Palestine   \n",
       "\n",
       "    Other  Nations   Affected  \\\n",
       "0       0      NaN        NaN   \n",
       "1       0      NaN        NaN   \n",
       "2       0      NaN        NaN   \n",
       "3  Greece      NaN        NaN   \n",
       "4       0      NaN        NaN   \n",
       "\n",
       "  Detailed Locations (click on active links to access inundation extents)  \\\n",
       "0                                              Chocó                        \n",
       "1  Bay Area, and Sacramento, north coastal Califo...                        \n",
       "2                                  Eastern Sao Paulo                        \n",
       "3  Northern Greece and along the country's northe...                        \n",
       "4                                               Gaza                        \n",
       "\n",
       "  Validation (post event #3503)      Began  ... Latitude of Centroid Y  \\\n",
       "0                          News 2014-11-01  ...                4.59198   \n",
       "1                          News 2014-12-11  ...               39.79670   \n",
       "2                          News 2014-12-10  ...              -24.85130   \n",
       "3                          News 2014-12-04  ...               41.45790   \n",
       "4                          News 2014-11-26  ...               31.33780   \n",
       "\n",
       "   \"News\" if validated  M>6  Total annual floods M>6  M>4  \\\n",
       "0                 News  1.0                     98.0  1.0   \n",
       "1                 News  0.0                     97.0  1.0   \n",
       "2                 News  0.0                     97.0  1.0   \n",
       "3                 News  1.0                     97.0  1.0   \n",
       "4                 News  0.0                     96.0  1.0   \n",
       "\n",
       "  Total annual floods M>4  Date Began  Total floods M>6  Total floods M>4  \\\n",
       "0                   199.0  2014-11-01            1110.0            3682.0   \n",
       "1                   198.0  2014-12-11            1109.0            3681.0   \n",
       "2                   197.0  2014-12-10            1109.0            3680.0   \n",
       "3                   196.0  2014-12-04            1109.0            3679.0   \n",
       "4                   195.0  2014-11-26            1108.0            3678.0   \n",
       "\n",
       "   Notes and Comments (may include quoted headlines from copyrighted news stories; for internal research purposes only)  \n",
       "0  December 10, 2015, 2014:  A second rainy seaso...                                                                     \n",
       "1  December 12, 2014:  \"Today's predicted, panic-...                                                                     \n",
       "2  December 11, 2014:  \"Sao Paulo floodwaters lea...                                                                     \n",
       "3  December 12, 2014: \"After heavy rain and flood...                                                                     \n",
       "4  November 28, 2014:  \"The United Nations Relief...                                                                     \n",
       "\n",
       "[5 rows x 30 columns]"
      ]
     },
     "execution_count": 6,
     "metadata": {},
     "output_type": "execute_result"
    }
   ],
   "source": [
    "df= pd.read_excel('FlooddataMasterListrev.xlsx')\n",
    "df.head()"
   ]
  },
  {
   "cell_type": "code",
   "execution_count": 7,
   "metadata": {},
   "outputs": [
    {
     "data": {
      "text/plain": [
       "(4241, 30)"
      ]
     },
     "execution_count": 7,
     "metadata": {},
     "output_type": "execute_result"
    }
   ],
   "source": [
    "df.shape"
   ]
  },
  {
   "cell_type": "code",
   "execution_count": 8,
   "metadata": {},
   "outputs": [
    {
     "data": {
      "text/plain": [
       "RangeIndex(start=0, stop=4241, step=1)"
      ]
     },
     "execution_count": 8,
     "metadata": {},
     "output_type": "execute_result"
    }
   ],
   "source": [
    "df.index"
   ]
  },
  {
   "cell_type": "code",
   "execution_count": 10,
   "metadata": {},
   "outputs": [
    {
     "data": {
      "text/plain": [
       "Index(['Register #', 'Annual DFO # (discontinued)', 'Glide #', 'Country',\n",
       "       'Other', 'Nations', ' Affected',\n",
       "       'Detailed Locations (click on active links to access inundation extents)',\n",
       "       'Validation (post event #3503)', 'Began', 'Ended', 'Duration in Days',\n",
       "       'Dead', 'Displaced', 'Damage (USD)', 'Main cause', 'Severity *',\n",
       "       'Affected sq km', 'Magnitude (M)**', 'Longitude of Centroid X',\n",
       "       'Latitude of Centroid Y', '\"News\" if validated', 'M>6',\n",
       "       'Total annual floods M>6', 'M>4', 'Total annual floods M>4',\n",
       "       'Date Began', 'Total floods M>6', 'Total floods M>4',\n",
       "       'Notes and Comments (may include quoted headlines from copyrighted news stories; for internal research purposes only)'],\n",
       "      dtype='object')"
      ]
     },
     "execution_count": 10,
     "metadata": {},
     "output_type": "execute_result"
    }
   ],
   "source": [
    "df.columns"
   ]
  },
  {
   "cell_type": "code",
   "execution_count": null,
   "metadata": {},
   "outputs": [],
   "source": []
  }
 ],
 "metadata": {
  "kernelspec": {
   "display_name": "Python 3",
   "language": "python",
   "name": "python3"
  },
  "language_info": {
   "codemirror_mode": {
    "name": "ipython",
    "version": 3
   },
   "file_extension": ".py",
   "mimetype": "text/x-python",
   "name": "python",
   "nbconvert_exporter": "python",
   "pygments_lexer": "ipython3",
   "version": "3.12.6"
  }
 },
 "nbformat": 4,
 "nbformat_minor": 2
}
