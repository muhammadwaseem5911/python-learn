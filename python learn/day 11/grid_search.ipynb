{
 "cells": [
  {
   "cell_type": "code",
   "execution_count": 1,
   "metadata": {},
   "outputs": [
    {
     "name": "stdout",
     "output_type": "stream",
     "text": [
      "{'copy_X': True, 'fit_intercept': True, 'n_jobs': None, 'positive': False}\n"
     ]
    }
   ],
   "source": [
    "from sklearn.linear_model import LinearRegression\n",
    "from  sklearn.model_selection import GridSearchCV\n",
    "# create a model\n",
    "model=LinearRegression()\n",
    "# get the parametrical list\n",
    "print(model.get_params())"
   ]
  },
  {
   "cell_type": "code",
   "execution_count": 2,
   "metadata": {},
   "outputs": [
    {
     "name": "stdout",
     "output_type": "stream",
     "text": [
      "{'bootstrap': True, 'ccp_alpha': 0.0, 'class_weight': None, 'criterion': 'gini', 'max_depth': None, 'max_features': 'sqrt', 'max_leaf_nodes': None, 'max_samples': None, 'min_impurity_decrease': 0.0, 'min_samples_leaf': 1, 'min_samples_split': 2, 'min_weight_fraction_leaf': 0.0, 'monotonic_cst': None, 'n_estimators': 100, 'n_jobs': None, 'oob_score': False, 'random_state': None, 'verbose': 0, 'warm_start': False}\n"
     ]
    }
   ],
   "source": [
    "from sklearn.ensemble import  RandomForestClassifier\n",
    "model=RandomForestClassifier()\n",
    "print(model.get_params())"
   ]
  },
  {
   "cell_type": "code",
   "execution_count": 3,
   "metadata": {},
   "outputs": [
    {
     "name": "stdout",
     "output_type": "stream",
     "text": [
      "{'algorithm': 'auto', 'leaf_size': 30, 'metric': 'minkowski', 'metric_params': None, 'n_jobs': None, 'n_neighbors': 5, 'p': 2, 'weights': 'uniform'}\n"
     ]
    }
   ],
   "source": [
    "from sklearn.neighbors import  KNeighborsClassifier\n",
    "model=KNeighborsClassifier()\n",
    "print(model.get_params())"
   ]
  },
  {
   "cell_type": "code",
   "execution_count": 4,
   "metadata": {},
   "outputs": [
    {
     "name": "stdout",
     "output_type": "stream",
     "text": [
      "{'C': 1.0, 'break_ties': False, 'cache_size': 200, 'class_weight': None, 'coef0': 0.0, 'decision_function_shape': 'ovr', 'degree': 3, 'gamma': 'scale', 'kernel': 'rbf', 'max_iter': -1, 'probability': False, 'random_state': None, 'shrinking': True, 'tol': 0.001, 'verbose': False}\n"
     ]
    }
   ],
   "source": [
    "from sklearn.svm import SVC\n",
    "model=SVC()\n",
    "print(model.get_params())"
   ]
  },
  {
   "cell_type": "code",
   "execution_count": 5,
   "metadata": {},
   "outputs": [
    {
     "name": "stdout",
     "output_type": "stream",
     "text": [
      "{'ccp_alpha': 0.0, 'class_weight': None, 'criterion': 'gini', 'max_depth': None, 'max_features': None, 'max_leaf_nodes': None, 'min_impurity_decrease': 0.0, 'min_samples_leaf': 1, 'min_samples_split': 2, 'min_weight_fraction_leaf': 0.0, 'monotonic_cst': None, 'random_state': None, 'splitter': 'best'}\n"
     ]
    }
   ],
   "source": [
    "from sklearn.tree import DecisionTreeClassifier\n",
    "model=DecisionTreeClassifier()\n",
    "print(model.get_params())"
   ]
  },
  {
   "cell_type": "code",
   "execution_count": 6,
   "metadata": {},
   "outputs": [
    {
     "name": "stdout",
     "output_type": "stream",
     "text": [
      "{'fit_intercept': True}\n"
     ]
    }
   ],
   "source": [
    "# import libaries\n",
    "import pandas as pd\n",
    "import numpy as np\n",
    "import seaborn as  sns\n",
    "# import dataset\n",
    "df=sns.load_dataset('titanic')\n",
    "# wranging the data\n",
    "df['age']=df['age'].fillna(df['age'].mean())\n",
    "# assing x and y for model\n",
    "X=df[['age']]\n",
    "y=df['fare']\n",
    "# import model\n",
    "from sklearn.linear_model import LinearRegression\n",
    "from sklearn.model_selection import GridSearchCV\n",
    "# create a model\n",
    "model=LinearRegression()\n",
    "# define a parameters\n",
    "param_grid={'fit_intercept':[True,False]}\n",
    "# object grid search cv\n",
    "grid_search=GridSearchCV(model,param_grid,cv=5,scoring=\"r2\")\n",
    "\n",
    "#  fit the model\n",
    "grid_search.fit(X,y)\n",
    "# print the best parametric\n",
    "print(grid_search.best_params_)\n"
   ]
  },
  {
   "cell_type": "code",
   "execution_count": 7,
   "metadata": {},
   "outputs": [
    {
     "data": {
      "text/plain": [
       "Index(['survived', 'pclass', 'sex', 'age', 'sibsp', 'parch', 'fare',\n",
       "       'embarked', 'class', 'who', 'adult_male', 'deck', 'embark_town',\n",
       "       'alive', 'alone'],\n",
       "      dtype='object')"
      ]
     },
     "execution_count": 7,
     "metadata": {},
     "output_type": "execute_result"
    }
   ],
   "source": [
    "df.columns"
   ]
  },
  {
   "cell_type": "code",
   "execution_count": 8,
   "metadata": {},
   "outputs": [
    {
     "name": "stderr",
     "output_type": "stream",
     "text": [
      "C:\\Users\\muhammad waseem\\AppData\\Local\\Temp\\ipykernel_12960\\1619155208.py:11: FutureWarning: A value is trying to be set on a copy of a DataFrame or Series through chained assignment using an inplace method.\n",
      "The behavior will change in pandas 3.0. This inplace method will never work because the intermediate object on which we are setting values always behaves as a copy.\n",
      "\n",
      "For example, when doing 'df[col].method(value, inplace=True)', try using 'df.method({col: value}, inplace=True)' or df[col] = df[col].method(value) instead, to perform the operation inplace on the original object.\n",
      "\n",
      "\n",
      "  X.age.fillna(value=X['age'].mean(),inplace=True)\n"
     ]
    },
    {
     "name": "stdout",
     "output_type": "stream",
     "text": [
      "best parametric: {'n_neighbors': 5}\n",
      "best score: 0.6075670834695435\n"
     ]
    }
   ],
   "source": [
    "# import libaries\n",
    "import pandas as pd\n",
    "import numpy as np\n",
    "import seaborn as  sns\n",
    "# import dataset\n",
    "df=sns.load_dataset('titanic')\n",
    "# assing x and y for model\n",
    "X=df[['pclass', 'sex', 'age', 'sibsp', 'parch', 'fare']]\n",
    "y=df['survived']\n",
    "X=pd.get_dummies(X,columns=['sex'])\n",
    "X.age.fillna(value=X['age'].mean(),inplace=True)\n",
    "# import model\n",
    "from sklearn.neighbors import KNeighborsClassifier\n",
    "from sklearn.model_selection import GridSearchCV\n",
    "# create a model\n",
    "model=KNeighborsClassifier()\n",
    "# define a parameters\n",
    "param_grid={'n_neighbors': [5,7,8,10]}\n",
    "# object grid search cv\n",
    "grid_search=GridSearchCV(model,param_grid,cv=5,scoring=\"f1\")\n",
    "\n",
    "#  fit the model\n",
    "grid_search.fit(X,y)\n",
    "# print the best parametric\n",
    "print('best parametric:',grid_search.best_params_)\n",
    "print('best score:',grid_search.best_score_)"
   ]
  },
  {
   "cell_type": "markdown",
   "metadata": {},
   "source": [
    "we can used different parameters for checking the best result in machine  learning"
   ]
  },
  {
   "cell_type": "code",
   "execution_count": 11,
   "metadata": {},
   "outputs": [
    {
     "name": "stderr",
     "output_type": "stream",
     "text": [
      "C:\\Users\\muhammad waseem\\AppData\\Local\\Temp\\ipykernel_12960\\3381908526.py:11: FutureWarning: A value is trying to be set on a copy of a DataFrame or Series through chained assignment using an inplace method.\n",
      "The behavior will change in pandas 3.0. This inplace method will never work because the intermediate object on which we are setting values always behaves as a copy.\n",
      "\n",
      "For example, when doing 'df[col].method(value, inplace=True)', try using 'df.method({col: value}, inplace=True)' or df[col] = df[col].method(value) instead, to perform the operation inplace on the original object.\n",
      "\n",
      "\n",
      "  X.age.fillna(value=X['age'].mean(),inplace=True)\n"
     ]
    },
    {
     "name": "stdout",
     "output_type": "stream",
     "text": [
      "best parametric: {'max_depth': 7, 'min_samples_split': 4}\n",
      "best score: 0.8186426919392525\n"
     ]
    }
   ],
   "source": [
    "# import libaries\n",
    "import pandas as pd\n",
    "import numpy as np\n",
    "import seaborn as  sns\n",
    "# import dataset\n",
    "df=sns.load_dataset('titanic')\n",
    "# assing x and y for model\n",
    "X=df[['pclass', 'sex', 'age', 'sibsp', 'parch', 'fare']]\n",
    "y=df['survived']\n",
    "X=pd.get_dummies(X,columns=['sex'])\n",
    "X.age.fillna(value=X['age'].mean(),inplace=True)\n",
    "# import model\n",
    "from sklearn.tree import DecisionTreeClassifier\n",
    "from sklearn.model_selection import GridSearchCV\n",
    "# create a model\n",
    "model=DecisionTreeClassifier()\n",
    "# define a parameters\n",
    "param_grid={'max_depth':[3,5,7,None],'min_samples_split':[2,4,6]\n",
    "\n",
    "}\n",
    "# object grid search cv\n",
    "grid_search=GridSearchCV(model,param_grid,cv=5,scoring=\"precision\")\n",
    "\n",
    "#  fit the model\n",
    "grid_search.fit(X,y)\n",
    "# print the best parametric\n",
    "print('best parametric:',grid_search.best_params_)\n",
    "print('best score:',grid_search.best_score_)"
   ]
  },
  {
   "cell_type": "code",
   "execution_count": 12,
   "metadata": {},
   "outputs": [
    {
     "name": "stderr",
     "output_type": "stream",
     "text": [
      "C:\\Users\\muhammad waseem\\AppData\\Local\\Temp\\ipykernel_12960\\370906022.py:11: FutureWarning: A value is trying to be set on a copy of a DataFrame or Series through chained assignment using an inplace method.\n",
      "The behavior will change in pandas 3.0. This inplace method will never work because the intermediate object on which we are setting values always behaves as a copy.\n",
      "\n",
      "For example, when doing 'df[col].method(value, inplace=True)', try using 'df.method({col: value}, inplace=True)' or df[col] = df[col].method(value) instead, to perform the operation inplace on the original object.\n",
      "\n",
      "\n",
      "  X.age.fillna(value=X['age'].mean(),inplace=True)\n"
     ]
    },
    {
     "name": "stdout",
     "output_type": "stream",
     "text": [
      "best parametric: {'max_depth': 5, 'min_samples_split': 4}\n",
      "best score: 0.8191630743989732\n"
     ]
    }
   ],
   "source": [
    "# import libaries\n",
    "import pandas as pd\n",
    "import numpy as np\n",
    "import seaborn as  sns\n",
    "# import dataset\n",
    "df=sns.load_dataset('titanic')\n",
    "# assing x and y for model\n",
    "X=df[['pclass', 'sex', 'age', 'sibsp', 'parch', 'fare']]\n",
    "y=df['survived']\n",
    "X=pd.get_dummies(X,columns=['sex'])\n",
    "X.age.fillna(value=X['age'].mean(),inplace=True)\n",
    "# import model\n",
    "from sklearn.ensemble import  RandomForestClassifier\n",
    "\n",
    "from sklearn.model_selection import GridSearchCV\n",
    "# create a model\n",
    "model=RandomForestClassifier()\n",
    "# define a parameters\n",
    "param_grid={'max_depth':[3,5,7,None],'min_samples_split':[2,4,6]\n",
    "\n",
    "}\n",
    "# object grid search cv\n",
    "grid_search=GridSearchCV(model,param_grid,cv=5,scoring=\"precision\")\n",
    "\n",
    "#  fit the model\n",
    "grid_search.fit(X,y)\n",
    "# print the best parametric\n",
    "print('best parametric:',grid_search.best_params_)\n",
    "print('best score:',grid_search.best_score_)"
   ]
  },
  {
   "cell_type": "code",
   "execution_count": null,
   "metadata": {},
   "outputs": [],
   "source": []
  }
 ],
 "metadata": {
  "kernelspec": {
   "display_name": "Python 3",
   "language": "python",
   "name": "python3"
  },
  "language_info": {
   "codemirror_mode": {
    "name": "ipython",
    "version": 3
   },
   "file_extension": ".py",
   "mimetype": "text/x-python",
   "name": "python",
   "nbconvert_exporter": "python",
   "pygments_lexer": "ipython3",
   "version": "3.12.6"
  }
 },
 "nbformat": 4,
 "nbformat_minor": 2
}
